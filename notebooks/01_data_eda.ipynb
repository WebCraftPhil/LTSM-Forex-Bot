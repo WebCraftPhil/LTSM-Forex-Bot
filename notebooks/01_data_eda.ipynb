{
  "cells": [
    {
      "cell_type": "markdown",
      "metadata": {},
      "source": [
        "# LSTM Trading Bot - Data Exploration and Feature Engineering\n",
        "\n",
        "This notebook demonstrates how to:\n",
        "1. Load historical OHLCV data from multiple sources\n",
        "2. Perform exploratory data analysis\n",
        "3. Build multi-timeframe features for LSTM models\n",
        "4. Visualize feature correlations and importance\n",
        "\n",
        "## Setup\n"
      ]
    }
  ],
  "metadata": {
    "language_info": {
      "name": "python"
    }
  },
  "nbformat": 4,
  "nbformat_minor": 2
}
